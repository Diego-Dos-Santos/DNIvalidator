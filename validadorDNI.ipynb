{
  "nbformat": 4,
  "nbformat_minor": 0,
  "metadata": {
    "colab": {
      "name": "validadorDNI.ipynb",
      "provenance": []
    },
    "kernelspec": {
      "name": "python3",
      "display_name": "Python 3"
    }
  },
  "cells": [
    {
      "cell_type": "markdown",
      "metadata": {
        "id": "N5pAOQlQrXxZ"
      },
      "source": [
        "**VALIDADOR DE DNI**"
      ]
    },
    {
      "cell_type": "code",
      "metadata": {
        "id": "7M_gWQSepg5s"
      },
      "source": [
        "JorgeLista = {\n",
        "'Daniel' : 34445445,\n",
        "'Luciana' : 34449442,\n",
        "'Ricardo' : 34354345,\n",
        "'Leonel' : 32544532,\n",
        "'Pepe' : 32443897,\n",
        "'Rogelio' : 29992192,\n",
        "'Coco' : 34234598,\n",
        "'Melisa' : 36228190,\n",
        "'Lisa' : 29001921,\n",
        "'Homero' : 33238591,\n",
        "'Eduardo' : 34698124,\n",
        "'Santos' : 34213514,\n",
        "'Cossety' : 34556442,\n",
        "'Carla' : 34214554,\n",
        "'Lapicito' : 34445245\n",
        "}\n",
        "\n",
        "ppr = 0\n",
        "res = 0 \n",
        "\n",
        "for (k) in iter(JorgeLista.items()):  \n",
        "  ppr = ppr + 1\n",
        "\n",
        "while True: \n",
        "  try: \n",
        "    dni = int(input(\"Ingrese el numero de tu DNI\"))\n",
        "    for (k, v) in iter(JorgeLista.items()):\n",
        "      if v == dni and ppr != 0:\n",
        "        ppr = ppr - 1\n",
        "        print(\"es\", (k), (\"dejale entrar\"))\n",
        "        print(\"restan\", (ppr), \"invitados\")\n",
        "        break\n",
        "    if ppr <= 0:\n",
        "      print(\"ya entraron todos!\")\n",
        "    if v != dni:\n",
        "      print(\"Usted no esta en la lista\")\n",
        "  except:\n",
        "    print(\"no es un numero de DNI\")\n"
      ],
      "execution_count": null,
      "outputs": []
    }
  ]
}